{
 "cells": [
  {
   "cell_type": "markdown",
   "metadata": {},
   "source": [
    "## LATIHAN\n",
    "\n",
    "\n",
    "Body Mass Index (BMI) menentukan sebuah keidealan berat badan terhadap tinggi badan. Berikut adalah formula dari BMI : BMI = weight (kg) ÷ height^2 (m^2)\n",
    "\n",
    "Berikut adalah kategorisasi BMI\n",
    "\n",
    "| BMI                 | Kategori BMI             |   |\n",
    "|---------------------|---------------------------|---|\n",
    "| Kurang dari 15        | Very severely underweight |   |\n",
    "| Diantara 15 dan 16   | Severely underweight      |   |\n",
    "| Diantara 16 dan 18.5 | Underweight               |   |\n",
    "| Diantara 18.5 dan 25 | Normal (healthy weight)   |   |\n",
    "| Diantara 25 dan 30   | Overweight                |   |\n",
    "| Diantara 30 dan 35   | Moderately obese          |   |\n",
    "| Diantara 35 dan 40   | Severely obese            |   |\n",
    "| Over 40             | Very severely obese       |   |\n",
    "\n",
    "Buatlah sebuah program yang memiliki dua variabel berat badan dengan satuan KG, dan tinggi badan dengan satuan CM, kemudian keluaran dari program adalah Kategori BMI"
   ]
  },
  {
   "cell_type": "code",
   "execution_count": 2,
   "metadata": {},
   "outputs": [
    {
     "name": "stdout",
     "output_type": "stream",
     "text": [
      "Berat badan =  80  kg\n",
      "Tinggi badan =  174  cm\n",
      "BMI =  26.42356982428326\n",
      "Kategori BMI : Overweight\n"
     ]
    }
   ],
   "source": [
    "weight = 80\n",
    "print(\"Berat badan = \", weight, \" kg\")\n",
    "\n",
    "height_cm = 174\n",
    "print(\"Tinggi badan = \", height_cm, \" cm\")\n",
    "\n",
    "height_m = height_cm / 100\n",
    "bmi = weight / (height_m ** 2)\n",
    "print(\"BMI = \", bmi)\n",
    "\n",
    "if bmi < 15 :\n",
    "    print(\"Kategori BMI : Very severely underweight\")\n",
    "elif bmi >= 15 and bmi < 16 :\n",
    "    print(\"Kategori BMI : Severely underweight\")\n",
    "elif bmi >= 16 and bmi < 18.5 :\n",
    "    print(\"Kategori BMI : Underweight\")\n",
    "elif bmi >= 18.5 and bmi < 25 :\n",
    "    print(\"Kategori BMI : Normal (healthy weight)\")\n",
    "elif bmi >= 25 and bmi < 30 :\n",
    "    print(\"Kategori BMI : Overweight\")\n",
    "elif bmi >= 30 and bmi < 35 :\n",
    "    print(\"Kategori BMI : Moderately obese\")\n",
    "elif bmi >= 35 and bmi < 40 :\n",
    "    print(\"Kategori BMI : Severely obese\")\n",
    "else:\n",
    "    print(\"Kategori BMI : Very severely obese\")"
   ]
  }
 ],
 "metadata": {
  "kernelspec": {
   "display_name": "Python 3",
   "language": "python",
   "name": "python3"
  },
  "language_info": {
   "codemirror_mode": {
    "name": "ipython",
    "version": 3
   },
   "file_extension": ".py",
   "mimetype": "text/x-python",
   "name": "python",
   "nbconvert_exporter": "python",
   "pygments_lexer": "ipython3",
   "version": "3.7.0"
  }
 },
 "nbformat": 4,
 "nbformat_minor": 2
}
